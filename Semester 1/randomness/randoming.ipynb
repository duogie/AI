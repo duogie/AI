{
 "cells": [
  {
   "cell_type": "code",
   "execution_count": 2,
   "id": "66be8238",
   "metadata": {},
   "outputs": [],
   "source": [
    "import pandas as pd\n",
    "import random"
   ]
  },
  {
   "cell_type": "code",
   "execution_count": 6,
   "id": "a72398dd",
   "metadata": {},
   "outputs": [
    {
     "data": {
      "text/plain": [
       "6"
      ]
     },
     "execution_count": 6,
     "metadata": {},
     "output_type": "execute_result"
    }
   ],
   "source": [
    "random.randint(1,10)"
   ]
  },
  {
   "cell_type": "code",
   "execution_count": 25,
   "id": "72d1df3e",
   "metadata": {},
   "outputs": [
    {
     "name": "stdout",
     "output_type": "stream",
     "text": [
      "29.289746\n"
     ]
    }
   ],
   "source": [
    "trials = 1000000\n",
    "total_happy_meals=0\n",
    "for trial in range(trials):\n",
    "    teenie_beanies= set()\n",
    "    happy_meals=0    \n",
    "    while len(teenie_beanies) < 10:\n",
    "        num = random.choice(range(1,11))\n",
    "        teenie_beanies.add(num)\n",
    "        happy_meals+=1\n",
    "        \n",
    "    total_happy_meals += happy_meals\n",
    "gamble = total_happy_meals/trials\n",
    "print(gamble)"
   ]
  },
  {
   "cell_type": "markdown",
   "id": "9b0d7f06",
   "metadata": {},
   "source": [
    "### The theoretical frquency of a person having either O- or AB- blood is 7.2%"
   ]
  },
  {
   "cell_type": "code",
   "execution_count": null,
   "id": "ad583194",
   "metadata": {},
   "outputs": [],
   "source": [
    "trials = 10000\n",
    "total_persons = 0\n",
    "for trial in range(trails):\n",
    "    blood_type = set()\n",
    "    persons = 0\n",
    "    while len(blood_type)"
   ]
  }
 ],
 "metadata": {
  "kernelspec": {
   "display_name": "Python 3 (ipykernel)",
   "language": "python",
   "name": "python3"
  },
  "language_info": {
   "codemirror_mode": {
    "name": "ipython",
    "version": 3
   },
   "file_extension": ".py",
   "mimetype": "text/x-python",
   "name": "python",
   "nbconvert_exporter": "python",
   "pygments_lexer": "ipython3",
   "version": "3.9.13"
  }
 },
 "nbformat": 4,
 "nbformat_minor": 5
}
