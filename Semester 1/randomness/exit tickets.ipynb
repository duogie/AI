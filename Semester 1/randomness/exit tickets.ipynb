{
 "cells": [
  {
   "cell_type": "code",
   "execution_count": 1,
   "id": "b0561de8",
   "metadata": {},
   "outputs": [],
   "source": [
    "import pandas as pd\n",
    "import random"
   ]
  },
  {
   "cell_type": "code",
   "execution_count": 12,
   "id": "4e0999b0",
   "metadata": {},
   "outputs": [
    {
     "name": "stdout",
     "output_type": "stream",
     "text": [
      "9.762\n"
     ]
    }
   ],
   "source": [
    "trials = 1000\n",
    "total_decks = 0\n",
    "for trial in range(trials):\n",
    "    queens_kings= set()\n",
    "    decks=0    \n",
    "    while len(queens_kings) <= 8:\n",
    "        num = random.choice(range(1,52))\n",
    "        queens_kings.add(num)\n",
    "        decks+=1\n",
    "        \n",
    "    total_decks += decks\n",
    "goat = total_decks/trials\n",
    "print(goat)"
   ]
  },
  {
   "cell_type": "code",
   "execution_count": null,
   "id": "cfe2f4d6",
   "metadata": {},
   "outputs": [],
   "source": [
    "import random\n",
    "trials = 1000\n",
    "count = 0\n",
    "red=0\n",
    "green=0\n",
    "blue=0\n",
    "while count < trials:\n",
    "    color = random.randint(0, 2) # red=1 green=2 blue=0\n",
    "if color==1:\n",
    "    red+=1\n",
    "elif color == 2:\n",
    "    green+=1\n",
    "else:\n",
    "    blue+=1\n",
    "count+=1\n",
    "red_proportion = red / trials\n",
    "green_proportion = green / trials\n",
    "blue_proportion = blue / trials\n",
    "print(f\"Red proportion: {red_proportion:.2f}\")\n",
    "print(f\"Green proportion: {green_proportion:.2f}\")\n",
    "print(f\"Blue proportion: {blue_proportion:.2f}\")"
   ]
  },
  {
   "cell_type": "code",
   "execution_count": null,
   "id": "ff9f20fd",
   "metadata": {},
   "outputs": [],
   "source": []
  }
 ],
 "metadata": {
  "kernelspec": {
   "display_name": "Python 3 (ipykernel)",
   "language": "python",
   "name": "python3"
  },
  "language_info": {
   "codemirror_mode": {
    "name": "ipython",
    "version": 3
   },
   "file_extension": ".py",
   "mimetype": "text/x-python",
   "name": "python",
   "nbconvert_exporter": "python",
   "pygments_lexer": "ipython3",
   "version": "3.9.13"
  }
 },
 "nbformat": 4,
 "nbformat_minor": 5
}
