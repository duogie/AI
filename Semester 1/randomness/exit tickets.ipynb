{
 "cells": [
  {
   "cell_type": "code",
   "execution_count": 1,
   "id": "b0561de8",
   "metadata": {},
   "outputs": [],
   "source": [
    "import pandas as pd\n",
    "import random"
   ]
  },
  {
   "cell_type": "code",
   "execution_count": 12,
   "id": "4e0999b0",
   "metadata": {},
   "outputs": [
    {
     "name": "stdout",
     "output_type": "stream",
     "text": [
      "9.762\n"
     ]
    }
   ],
   "source": [
    "trials = 1000\n",
    "total_decks = 0\n",
    "for trial in range(trials):\n",
    "    queens_kings= set()\n",
    "    decks=0    \n",
    "    while len(queens_kings) <= 8:\n",
    "        num = random.choice(range(1,52))\n",
    "        queens_kings.add(num)\n",
    "        decks+=1\n",
    "        \n",
    "    total_decks += decks\n",
    "goat = total_decks/trials\n",
    "print(goat)"
   ]
  },
  {
   "cell_type": "code",
   "execution_count": null,
   "id": "cfe2f4d6",
   "metadata": {},
   "outputs": [],
   "source": []
  },
  {
   "cell_type": "code",
   "execution_count": null,
   "id": "ff9f20fd",
   "metadata": {},
   "outputs": [],
   "source": []
  }
 ],
 "metadata": {
  "kernelspec": {
   "display_name": "Python 3 (ipykernel)",
   "language": "python",
   "name": "python3"
  },
  "language_info": {
   "codemirror_mode": {
    "name": "ipython",
    "version": 3
   },
   "file_extension": ".py",
   "mimetype": "text/x-python",
   "name": "python",
   "nbconvert_exporter": "python",
   "pygments_lexer": "ipython3",
   "version": "3.9.13"
  }
 },
 "nbformat": 4,
 "nbformat_minor": 5
}
