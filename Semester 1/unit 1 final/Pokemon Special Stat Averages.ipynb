{
 "cells": [
  {
   "cell_type": "markdown",
   "id": "c80b3b64",
   "metadata": {},
   "source": [
    "# Choose a Data Set\n",
    "Pick one of the following data sets to analyze for your final project. \n",
    "- [Cosmetics](https://drive.google.com/drive/folders/1qvmRfGb7a_pYAtgW6614gxlP-bxl_Ptz?usp=drive_link)\n",
    "- [Mental Health](https://drive.google.com/drive/folders/1YOp1aQVcmqlAkUEGHNPl_TyNXbY-xHwO?usp=drive_link)\n",
    "- [Pokemon](https://drive.google.com/drive/folders/1kDu2oRgm_hUW5hdM0tHnMUqCGSKUYT1v?usp=drive_link)\n",
    "- [Ramen](https://drive.google.com/drive/folders/1Y4_5QHOCy8rHc5EsEwDUuoCfp2WLo-MN?usp=drive_link)\n",
    "- [Student Performance](https://drive.google.com/drive/folders/1fE31Ka38AnGpgfI_Es3z4psuA0phhH0Y?usp=drive_link)"
   ]
  },
  {
   "cell_type": "markdown",
   "id": "8a7e64bc",
   "metadata": {},
   "source": [
    "# My Question"
   ]
  },
  {
   "cell_type": "markdown",
   "id": "b52e166c",
   "metadata": {},
   "source": [
    "What is the average Special Attack compared to the average Special Defense of Pokemon across multiple generations? Do any special attack or special defense stats stand out in this data set?"
   ]
  },
  {
   "cell_type": "markdown",
   "id": "0a574d2e",
   "metadata": {},
   "source": [
    "# My Analysis"
   ]
  },
  {
   "cell_type": "code",
   "execution_count": 1,
   "id": "e9e64518",
   "metadata": {
    "scrolled": true
   },
   "outputs": [
    {
     "data": {
      "text/plain": [
       "Index(['#', 'Name', 'Type 1', 'Type 2', 'Total', 'HP', 'Attack', 'Defense',\n",
       "       'Sp. Atk', 'Sp. Def', 'Speed', 'Generation', 'Legendary'],\n",
       "      dtype='object')"
      ]
     },
     "execution_count": 1,
     "metadata": {},
     "output_type": "execute_result"
    }
   ],
   "source": [
    "import pandas as pd\n",
    "import seaborn as sns\n",
    "import matplotlib.pyplot as plt\n",
    "df = pd.read_csv('Pokemon.csv')\n",
    "df.columns"
   ]
  },
  {
   "cell_type": "code",
   "execution_count": 2,
   "id": "2b887f41",
   "metadata": {
    "scrolled": true
   },
   "outputs": [
    {
     "data": {
      "text/html": [
       "<div>\n",
       "<style scoped>\n",
       "    .dataframe tbody tr th:only-of-type {\n",
       "        vertical-align: middle;\n",
       "    }\n",
       "\n",
       "    .dataframe tbody tr th {\n",
       "        vertical-align: top;\n",
       "    }\n",
       "\n",
       "    .dataframe thead th {\n",
       "        text-align: right;\n",
       "    }\n",
       "</style>\n",
       "<table border=\"1\" class=\"dataframe\">\n",
       "  <thead>\n",
       "    <tr style=\"text-align: right;\">\n",
       "      <th></th>\n",
       "      <th>#</th>\n",
       "      <th>Name</th>\n",
       "      <th>Type 1</th>\n",
       "      <th>Type 2</th>\n",
       "      <th>Total</th>\n",
       "      <th>HP</th>\n",
       "      <th>Attack</th>\n",
       "      <th>Defense</th>\n",
       "      <th>Sp. Atk</th>\n",
       "      <th>Sp. Def</th>\n",
       "      <th>Speed</th>\n",
       "      <th>Generation</th>\n",
       "      <th>Legendary</th>\n",
       "    </tr>\n",
       "  </thead>\n",
       "  <tbody>\n",
       "    <tr>\n",
       "      <th>718</th>\n",
       "      <td>650</td>\n",
       "      <td>Chespin</td>\n",
       "      <td>Grass</td>\n",
       "      <td>NaN</td>\n",
       "      <td>313</td>\n",
       "      <td>56</td>\n",
       "      <td>61</td>\n",
       "      <td>65</td>\n",
       "      <td>48</td>\n",
       "      <td>45</td>\n",
       "      <td>38</td>\n",
       "      <td>6</td>\n",
       "      <td>False</td>\n",
       "    </tr>\n",
       "    <tr>\n",
       "      <th>719</th>\n",
       "      <td>651</td>\n",
       "      <td>Quilladin</td>\n",
       "      <td>Grass</td>\n",
       "      <td>NaN</td>\n",
       "      <td>405</td>\n",
       "      <td>61</td>\n",
       "      <td>78</td>\n",
       "      <td>95</td>\n",
       "      <td>56</td>\n",
       "      <td>58</td>\n",
       "      <td>57</td>\n",
       "      <td>6</td>\n",
       "      <td>False</td>\n",
       "    </tr>\n",
       "    <tr>\n",
       "      <th>720</th>\n",
       "      <td>652</td>\n",
       "      <td>Chesnaught</td>\n",
       "      <td>Grass</td>\n",
       "      <td>Fighting</td>\n",
       "      <td>530</td>\n",
       "      <td>88</td>\n",
       "      <td>107</td>\n",
       "      <td>122</td>\n",
       "      <td>74</td>\n",
       "      <td>75</td>\n",
       "      <td>64</td>\n",
       "      <td>6</td>\n",
       "      <td>False</td>\n",
       "    </tr>\n",
       "    <tr>\n",
       "      <th>721</th>\n",
       "      <td>653</td>\n",
       "      <td>Fennekin</td>\n",
       "      <td>Fire</td>\n",
       "      <td>NaN</td>\n",
       "      <td>307</td>\n",
       "      <td>40</td>\n",
       "      <td>45</td>\n",
       "      <td>40</td>\n",
       "      <td>62</td>\n",
       "      <td>60</td>\n",
       "      <td>60</td>\n",
       "      <td>6</td>\n",
       "      <td>False</td>\n",
       "    </tr>\n",
       "    <tr>\n",
       "      <th>722</th>\n",
       "      <td>654</td>\n",
       "      <td>Braixen</td>\n",
       "      <td>Fire</td>\n",
       "      <td>NaN</td>\n",
       "      <td>409</td>\n",
       "      <td>59</td>\n",
       "      <td>59</td>\n",
       "      <td>58</td>\n",
       "      <td>90</td>\n",
       "      <td>70</td>\n",
       "      <td>73</td>\n",
       "      <td>6</td>\n",
       "      <td>False</td>\n",
       "    </tr>\n",
       "    <tr>\n",
       "      <th>...</th>\n",
       "      <td>...</td>\n",
       "      <td>...</td>\n",
       "      <td>...</td>\n",
       "      <td>...</td>\n",
       "      <td>...</td>\n",
       "      <td>...</td>\n",
       "      <td>...</td>\n",
       "      <td>...</td>\n",
       "      <td>...</td>\n",
       "      <td>...</td>\n",
       "      <td>...</td>\n",
       "      <td>...</td>\n",
       "      <td>...</td>\n",
       "    </tr>\n",
       "    <tr>\n",
       "      <th>795</th>\n",
       "      <td>719</td>\n",
       "      <td>Diancie</td>\n",
       "      <td>Rock</td>\n",
       "      <td>Fairy</td>\n",
       "      <td>600</td>\n",
       "      <td>50</td>\n",
       "      <td>100</td>\n",
       "      <td>150</td>\n",
       "      <td>100</td>\n",
       "      <td>150</td>\n",
       "      <td>50</td>\n",
       "      <td>6</td>\n",
       "      <td>True</td>\n",
       "    </tr>\n",
       "    <tr>\n",
       "      <th>796</th>\n",
       "      <td>719</td>\n",
       "      <td>DiancieMega Diancie</td>\n",
       "      <td>Rock</td>\n",
       "      <td>Fairy</td>\n",
       "      <td>700</td>\n",
       "      <td>50</td>\n",
       "      <td>160</td>\n",
       "      <td>110</td>\n",
       "      <td>160</td>\n",
       "      <td>110</td>\n",
       "      <td>110</td>\n",
       "      <td>6</td>\n",
       "      <td>True</td>\n",
       "    </tr>\n",
       "    <tr>\n",
       "      <th>797</th>\n",
       "      <td>720</td>\n",
       "      <td>HoopaHoopa Confined</td>\n",
       "      <td>Psychic</td>\n",
       "      <td>Ghost</td>\n",
       "      <td>600</td>\n",
       "      <td>80</td>\n",
       "      <td>110</td>\n",
       "      <td>60</td>\n",
       "      <td>150</td>\n",
       "      <td>130</td>\n",
       "      <td>70</td>\n",
       "      <td>6</td>\n",
       "      <td>True</td>\n",
       "    </tr>\n",
       "    <tr>\n",
       "      <th>798</th>\n",
       "      <td>720</td>\n",
       "      <td>HoopaHoopa Unbound</td>\n",
       "      <td>Psychic</td>\n",
       "      <td>Dark</td>\n",
       "      <td>680</td>\n",
       "      <td>80</td>\n",
       "      <td>160</td>\n",
       "      <td>60</td>\n",
       "      <td>170</td>\n",
       "      <td>130</td>\n",
       "      <td>80</td>\n",
       "      <td>6</td>\n",
       "      <td>True</td>\n",
       "    </tr>\n",
       "    <tr>\n",
       "      <th>799</th>\n",
       "      <td>721</td>\n",
       "      <td>Volcanion</td>\n",
       "      <td>Fire</td>\n",
       "      <td>Water</td>\n",
       "      <td>600</td>\n",
       "      <td>80</td>\n",
       "      <td>110</td>\n",
       "      <td>120</td>\n",
       "      <td>130</td>\n",
       "      <td>90</td>\n",
       "      <td>70</td>\n",
       "      <td>6</td>\n",
       "      <td>True</td>\n",
       "    </tr>\n",
       "  </tbody>\n",
       "</table>\n",
       "<p>82 rows × 13 columns</p>\n",
       "</div>"
      ],
      "text/plain": [
       "       #                 Name   Type 1    Type 2  Total  HP  Attack  Defense  \\\n",
       "718  650              Chespin    Grass       NaN    313  56      61       65   \n",
       "719  651            Quilladin    Grass       NaN    405  61      78       95   \n",
       "720  652           Chesnaught    Grass  Fighting    530  88     107      122   \n",
       "721  653             Fennekin     Fire       NaN    307  40      45       40   \n",
       "722  654              Braixen     Fire       NaN    409  59      59       58   \n",
       "..   ...                  ...      ...       ...    ...  ..     ...      ...   \n",
       "795  719              Diancie     Rock     Fairy    600  50     100      150   \n",
       "796  719  DiancieMega Diancie     Rock     Fairy    700  50     160      110   \n",
       "797  720  HoopaHoopa Confined  Psychic     Ghost    600  80     110       60   \n",
       "798  720   HoopaHoopa Unbound  Psychic      Dark    680  80     160       60   \n",
       "799  721            Volcanion     Fire     Water    600  80     110      120   \n",
       "\n",
       "     Sp. Atk  Sp. Def  Speed  Generation  Legendary  \n",
       "718       48       45     38           6      False  \n",
       "719       56       58     57           6      False  \n",
       "720       74       75     64           6      False  \n",
       "721       62       60     60           6      False  \n",
       "722       90       70     73           6      False  \n",
       "..       ...      ...    ...         ...        ...  \n",
       "795      100      150     50           6       True  \n",
       "796      160      110    110           6       True  \n",
       "797      150      130     70           6       True  \n",
       "798      170      130     80           6       True  \n",
       "799      130       90     70           6       True  \n",
       "\n",
       "[82 rows x 13 columns]"
      ]
     },
     "execution_count": 2,
     "metadata": {},
     "output_type": "execute_result"
    }
   ],
   "source": [
    "df[df['Generation'] == 6]"
   ]
  },
  {
   "cell_type": "code",
   "execution_count": 3,
   "id": "25eae5df",
   "metadata": {},
   "outputs": [],
   "source": [
    "Gen1 = df[df['Generation'] == 1]\n",
    "Gen3 = df[df['Generation'] == 3]\n",
    "Gen6 = df[df['Generation'] == 6]"
   ]
  },
  {
   "cell_type": "code",
   "execution_count": 18,
   "id": "31a45618",
   "metadata": {
    "scrolled": false
   },
   "outputs": [
    {
     "data": {
      "image/png": "[encoded data removed]",
      "text/plain": [
       "<Figure size 1500x1000 with 6 Axes>"
      ]
     },
     "metadata": {},
     "output_type": "display_data"
    }
   ],
   "source": [
    "fig, axes = plt.subplots(nrows=2, ncols=3, figsize=(15, 10))\n",
    "Gen1Atk=sns.histplot(data=Gen1, x='Sp. Atk', color='red', bins = 50, ax=axes[0, 0])\n",
    "Gen1Def=sns.histplot(data=Gen1, x='Sp. Def', color ='blue', bins = 50, ax=axes[0, 1])\n",
    "Gen3Atk=sns.histplot(data=Gen3, x='Sp. Atk', color='orange', bins = 50, ax=axes[0, 2])\n",
    "Gen3Def=sns.histplot(data=Gen3, x='Sp. Def', color='teal', bins = 50, ax=axes[1, 0])\n",
    "Gen6Atk=sns.histplot(data=Gen6, x='Sp. Atk', color='green', bins = 50, ax=axes[1, 1])\n",
    "Gen6Def=sns.histplot(data=Gen6, x='Sp. Def', color='black', bins = 50, ax=axes[1, 2])\n",
    "axes[0, 0].set_title('Gen1 Sp. Atk')\n",
    "axes[0, 1].set_title('Gen1 Sp. Def')\n",
    "axes[0, 2].set_title('Gen3 Sp. Atk')\n",
    "axes[1, 0].set_title('Gen3 Sp. Def')\n",
    "axes[1, 1].set_title('Gen6 Sp. Atk')\n",
    "axes[1, 2].set_title('Gen6 Sp. Def')\n",
    "plt.show()"
   ]
  },
  {
   "cell_type": "code",
   "execution_count": 8,
   "id": "65ec0871",
   "metadata": {},
   "outputs": [],
   "source": [
    "sdgen1Atk=Gen1['Sp. Atk'].std()\n",
    "sdgen1Def=Gen1['Sp. Def'].std()\n",
    "sdgen3Atk=Gen3['Sp. Atk'].std()\n",
    "sdgen3Def=Gen3['Sp. Def'].std()\n",
    "sdgen6Atk=Gen6['Sp. Atk'].std()\n",
    "sdgen6Def=Gen6['Sp. Def'].std()"
   ]
  },
  {
   "cell_type": "code",
   "execution_count": 9,
   "id": "8613d650",
   "metadata": {},
   "outputs": [
    {
     "data": {
      "text/plain": [
       "31.37810032405005"
      ]
     },
     "execution_count": 9,
     "metadata": {},
     "output_type": "execute_result"
    }
   ],
   "source": [
    "(sdgen1Atk+sdgen1Def+sdgen3Atk+sdgen3Def+sdgen6Atk+sdgen6Def)/6"
   ]
  },
  {
   "cell_type": "code",
   "execution_count": 26,
   "id": "0b88e600",
   "metadata": {
    "scrolled": false
   },
   "outputs": [
    {
     "data": {
      "text/plain": [
       "34.43910553102809"
      ]
     },
     "execution_count": 26,
     "metadata": {},
     "output_type": "execute_result"
    }
   ],
   "source": [
    "sdgen1Atk"
   ]
  },
  {
   "cell_type": "code",
   "execution_count": 40,
   "id": "71a455f4",
   "metadata": {},
   "outputs": [
    {
     "data": {
      "text/plain": [
       "'MewtwoMega Mewtwo Y'"
      ]
     },
     "execution_count": 40,
     "metadata": {},
     "output_type": "execute_result"
    }
   ],
   "source": [
    "gen1maxspatk= Gen1['Sp. Atk'].idxmax()\n",
    "Gen1.loc[gen1maxspatk, 'Name']"
   ]
  },
  {
   "cell_type": "code",
   "execution_count": 41,
   "id": "33d144de",
   "metadata": {},
   "outputs": [
    {
     "data": {
      "text/plain": [
       "'GyaradosMega Gyarados'"
      ]
     },
     "execution_count": 41,
     "metadata": {},
     "output_type": "execute_result"
    }
   ],
   "source": [
    "gen1maxspdef= Gen1['Sp. Def'].idxmax()\n",
    "Gen1.loc[gen1maxspdef, 'Name']"
   ]
  },
  {
   "cell_type": "code",
   "execution_count": 42,
   "id": "ca9e54d4",
   "metadata": {},
   "outputs": [
    {
     "data": {
      "text/plain": [
       "'KyogrePrimal Kyogre'"
      ]
     },
     "execution_count": 42,
     "metadata": {},
     "output_type": "execute_result"
    }
   ],
   "source": [
    "gen3maxspatk= Gen3['Sp. Atk'].idxmax()\n",
    "Gen3.loc[gen3maxspatk, 'Name']"
   ]
  },
  {
   "cell_type": "code",
   "execution_count": 43,
   "id": "bd7e2f9d",
   "metadata": {},
   "outputs": [
    {
     "data": {
      "text/plain": [
       "'Regice'"
      ]
     },
     "execution_count": 43,
     "metadata": {},
     "output_type": "execute_result"
    }
   ],
   "source": [
    "gen3maxspdef= Gen3['Sp. Def'].idxmax()\n",
    "Gen3.loc[gen3maxspdef, 'Name']"
   ]
  },
  {
   "cell_type": "code",
   "execution_count": 44,
   "id": "404dc58b",
   "metadata": {},
   "outputs": [
    {
     "data": {
      "text/plain": [
       "'HoopaHoopa Unbound'"
      ]
     },
     "execution_count": 44,
     "metadata": {},
     "output_type": "execute_result"
    }
   ],
   "source": [
    "gen6maxspatk= Gen6['Sp. Atk'].idxmax()\n",
    "Gen6.loc[gen6maxspatk, 'Name']"
   ]
  },
  {
   "cell_type": "code",
   "execution_count": 45,
   "id": "4b09949a",
   "metadata": {},
   "outputs": [
    {
     "data": {
      "text/plain": [
       "'Florges'"
      ]
     },
     "execution_count": 45,
     "metadata": {},
     "output_type": "execute_result"
    }
   ],
   "source": [
    "gen6maxspdef= Gen6['Sp. Def'].idxmax()\n",
    "Gen6.loc[gen6maxspdef, 'Name']"
   ]
  },
  {
   "cell_type": "code",
   "execution_count": 27,
   "id": "92fd44b9",
   "metadata": {},
   "outputs": [
    {
     "data": {
      "text/plain": [
       "25.505275102425053"
      ]
     },
     "execution_count": 27,
     "metadata": {},
     "output_type": "execute_result"
    }
   ],
   "source": [
    "sdgen1Def"
   ]
  },
  {
   "cell_type": "code",
   "execution_count": 28,
   "id": "b0dcde5d",
   "metadata": {},
   "outputs": [
    {
     "data": {
      "text/plain": [
       "35.40751028512446"
      ]
     },
     "execution_count": 28,
     "metadata": {},
     "output_type": "execute_result"
    }
   ],
   "source": [
    "sdgen3Atk"
   ]
  },
  {
   "cell_type": "code",
   "execution_count": 29,
   "id": "6a8239d7",
   "metadata": {},
   "outputs": [
    {
     "data": {
      "text/plain": [
       "31.039627745287753"
      ]
     },
     "execution_count": 29,
     "metadata": {},
     "output_type": "execute_result"
    }
   ],
   "source": [
    "sdgen3Def"
   ]
  },
  {
   "cell_type": "code",
   "execution_count": 30,
   "id": "77f78f5f",
   "metadata": {},
   "outputs": [
    {
     "data": {
      "text/plain": [
       "31.790785140878985"
      ]
     },
     "execution_count": 30,
     "metadata": {},
     "output_type": "execute_result"
    }
   ],
   "source": [
    "sdgen6Atk"
   ]
  },
  {
   "cell_type": "code",
   "execution_count": 31,
   "id": "56374b37",
   "metadata": {},
   "outputs": [
    {
     "data": {
      "text/plain": [
       "30.08629813955593"
      ]
     },
     "execution_count": 31,
     "metadata": {},
     "output_type": "execute_result"
    }
   ],
   "source": [
    "sdgen6Def"
   ]
  },
  {
   "cell_type": "markdown",
   "id": "77e676b2",
   "metadata": {},
   "source": [
    "# My Answer"
   ]
  },
  {
   "cell_type": "markdown",
   "id": "16aec0ac",
   "metadata": {},
   "source": [
    "On average, the Special Defense of Pokemon were consistently increasing as more generations were made, with an 8.39% change from Gen 1 to Gen 6. Meanwhile, the Special Attack of also increased over the generations, but oddly, it decreased going from Gen 3 to Gen 6. From Gen 1 to Gen 6, there was an increase of 3.44% in terms of Special Attack; but from Gen 3 to Gen 6, there was actually a decrease of 2%. Furthermore, there were numerous amounts of pokemon who had stats beyond the standard deviation of these stats for all 3 generations. The average standard deviation for all the stats was around 31.3781003, with the averages hovering around 70-75 for both Special Atk and Special Def, there are still numerous Pokemon who were far beyond these ranges, with many specific Pokemon having Special Atk and Special Def massively above 125 across all 3 generations. Namely being, Mega Mewtwo X and Y, boasting the highest special attack from Gen 1, Gyarados and Mega Gyarados possessing the highest special defense from Gen 1, Kyogre and Primal Kyogre possessing the highest special Aaack from Gen 3, Regice having the highest special defense from Gen 3, Hoopa and Hoopa Unbound having the highest special attack from Gen 6, and Florges having the highest special defense from Gen 6. Out of all of these pokemon, Florges stands out most uniquely, as it's the only pokemon that isn't either mega evolved or a legendary."
   ]
  },
  {
   "cell_type": "code",
   "execution_count": null,
   "id": "81868833",
   "metadata": {},
   "outputs": [],
   "source": []
  },
  {
   "cell_type": "code",
   "execution_count": null,
   "id": "8783564b",
   "metadata": {},
   "outputs": [],
   "source": []
  }
 ],
 "metadata": {
  "kernelspec": {
   "display_name": "Python 3 (ipykernel)",
   "language": "python",
   "name": "python3"
  },
  "language_info": {
   "codemirror_mode": {
    "name": "ipython",
    "version": 3
   },
   "file_extension": ".py",
   "mimetype": "text/x-python",
   "name": "python",
   "nbconvert_exporter": "python",
   "pygments_lexer": "ipython3",
   "version": "3.9.13"
  }
 },
 "nbformat": 4,
 "nbformat_minor": 5
}
