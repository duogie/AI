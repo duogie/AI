{
 "cells": [
  {
   "cell_type": "markdown",
   "id": "c80b3b64",
   "metadata": {},
   "source": [
    "# Choose a Data Set\n",
    "Pick one of the following data sets to analyze for your final project. \n",
    "- [Cosmetics](https://drive.google.com/drive/folders/1qvmRfGb7a_pYAtgW6614gxlP-bxl_Ptz?usp=drive_link)\n",
    "- [Mental Health](https://drive.google.com/drive/folders/1YOp1aQVcmqlAkUEGHNPl_TyNXbY-xHwO?usp=drive_link)\n",
    "- [Pokemon](https://drive.google.com/drive/folders/1kDu2oRgm_hUW5hdM0tHnMUqCGSKUYT1v?usp=drive_link)\n",
    "- [Ramen](https://drive.google.com/drive/folders/1Y4_5QHOCy8rHc5EsEwDUuoCfp2WLo-MN?usp=drive_link)\n",
    "- [Student Performance](https://drive.google.com/drive/folders/1fE31Ka38AnGpgfI_Es3z4psuA0phhH0Y?usp=drive_link)"
   ]
  },
  {
   "cell_type": "markdown",
   "id": "8a7e64bc",
   "metadata": {},
   "source": [
    "# My Question"
   ]
  },
  {
   "cell_type": "markdown",
   "id": "b52e166c",
   "metadata": {},
   "source": [
    "What is the average Special Attack compared to the average Special Defense of Pokemon across multiple generations? Are there any major outliers beyond the standard deviations of the average?"
   ]
  },
  {
   "cell_type": "markdown",
   "id": "0a574d2e",
   "metadata": {},
   "source": [
    "# My Analysis"
   ]
  },
  {
   "cell_type": "code",
   "execution_count": 45,
   "id": "e9e64518",
   "metadata": {
    "scrolled": true
   },
   "outputs": [
    {
     "data": {
      "text/plain": [
       "Index(['#', 'Name', 'Type 1', 'Type 2', 'Total', 'HP', 'Attack', 'Defense',\n",
       "       'Sp. Atk', 'Sp. Def', 'Speed', 'Generation', 'Legendary'],\n",
       "      dtype='object')"
      ]
     },
     "execution_count": 45,
     "metadata": {},
     "output_type": "execute_result"
    }
   ],
   "source": [
    "import pandas as pd\n",
    "import seaborn as sns\n",
    "import matplotlib.pyplot as plt\n",
    "df = pd.read_csv('Pokemon.csv')\n",
    "df.columns"
   ]
  },
  {
   "cell_type": "code",
   "execution_count": 46,
   "id": "b8e2730c",
   "metadata": {
    "scrolled": true
   },
   "outputs": [
    {
     "data": {
      "text/html": [
       "<div>\n",
       "<style scoped>\n",
       "    .dataframe tbody tr th:only-of-type {\n",
       "        vertical-align: middle;\n",
       "    }\n",
       "\n",
       "    .dataframe tbody tr th {\n",
       "        vertical-align: top;\n",
       "    }\n",
       "\n",
       "    .dataframe thead th {\n",
       "        text-align: right;\n",
       "    }\n",
       "</style>\n",
       "<table border=\"1\" class=\"dataframe\">\n",
       "  <thead>\n",
       "    <tr style=\"text-align: right;\">\n",
       "      <th></th>\n",
       "      <th>#</th>\n",
       "      <th>Name</th>\n",
       "      <th>Type 1</th>\n",
       "      <th>Type 2</th>\n",
       "      <th>Total</th>\n",
       "      <th>HP</th>\n",
       "      <th>Attack</th>\n",
       "      <th>Defense</th>\n",
       "      <th>Sp. Atk</th>\n",
       "      <th>Sp. Def</th>\n",
       "      <th>Speed</th>\n",
       "      <th>Generation</th>\n",
       "      <th>Legendary</th>\n",
       "    </tr>\n",
       "  </thead>\n",
       "  <tbody>\n",
       "    <tr>\n",
       "      <th>718</th>\n",
       "      <td>650</td>\n",
       "      <td>Chespin</td>\n",
       "      <td>Grass</td>\n",
       "      <td>NaN</td>\n",
       "      <td>313</td>\n",
       "      <td>56</td>\n",
       "      <td>61</td>\n",
       "      <td>65</td>\n",
       "      <td>48</td>\n",
       "      <td>45</td>\n",
       "      <td>38</td>\n",
       "      <td>6</td>\n",
       "      <td>False</td>\n",
       "    </tr>\n",
       "    <tr>\n",
       "      <th>719</th>\n",
       "      <td>651</td>\n",
       "      <td>Quilladin</td>\n",
       "      <td>Grass</td>\n",
       "      <td>NaN</td>\n",
       "      <td>405</td>\n",
       "      <td>61</td>\n",
       "      <td>78</td>\n",
       "      <td>95</td>\n",
       "      <td>56</td>\n",
       "      <td>58</td>\n",
       "      <td>57</td>\n",
       "      <td>6</td>\n",
       "      <td>False</td>\n",
       "    </tr>\n",
       "    <tr>\n",
       "      <th>720</th>\n",
       "      <td>652</td>\n",
       "      <td>Chesnaught</td>\n",
       "      <td>Grass</td>\n",
       "      <td>Fighting</td>\n",
       "      <td>530</td>\n",
       "      <td>88</td>\n",
       "      <td>107</td>\n",
       "      <td>122</td>\n",
       "      <td>74</td>\n",
       "      <td>75</td>\n",
       "      <td>64</td>\n",
       "      <td>6</td>\n",
       "      <td>False</td>\n",
       "    </tr>\n",
       "    <tr>\n",
       "      <th>721</th>\n",
       "      <td>653</td>\n",
       "      <td>Fennekin</td>\n",
       "      <td>Fire</td>\n",
       "      <td>NaN</td>\n",
       "      <td>307</td>\n",
       "      <td>40</td>\n",
       "      <td>45</td>\n",
       "      <td>40</td>\n",
       "      <td>62</td>\n",
       "      <td>60</td>\n",
       "      <td>60</td>\n",
       "      <td>6</td>\n",
       "      <td>False</td>\n",
       "    </tr>\n",
       "    <tr>\n",
       "      <th>722</th>\n",
       "      <td>654</td>\n",
       "      <td>Braixen</td>\n",
       "      <td>Fire</td>\n",
       "      <td>NaN</td>\n",
       "      <td>409</td>\n",
       "      <td>59</td>\n",
       "      <td>59</td>\n",
       "      <td>58</td>\n",
       "      <td>90</td>\n",
       "      <td>70</td>\n",
       "      <td>73</td>\n",
       "      <td>6</td>\n",
       "      <td>False</td>\n",
       "    </tr>\n",
       "    <tr>\n",
       "      <th>...</th>\n",
       "      <td>...</td>\n",
       "      <td>...</td>\n",
       "      <td>...</td>\n",
       "      <td>...</td>\n",
       "      <td>...</td>\n",
       "      <td>...</td>\n",
       "      <td>...</td>\n",
       "      <td>...</td>\n",
       "      <td>...</td>\n",
       "      <td>...</td>\n",
       "      <td>...</td>\n",
       "      <td>...</td>\n",
       "      <td>...</td>\n",
       "    </tr>\n",
       "    <tr>\n",
       "      <th>795</th>\n",
       "      <td>719</td>\n",
       "      <td>Diancie</td>\n",
       "      <td>Rock</td>\n",
       "      <td>Fairy</td>\n",
       "      <td>600</td>\n",
       "      <td>50</td>\n",
       "      <td>100</td>\n",
       "      <td>150</td>\n",
       "      <td>100</td>\n",
       "      <td>150</td>\n",
       "      <td>50</td>\n",
       "      <td>6</td>\n",
       "      <td>True</td>\n",
       "    </tr>\n",
       "    <tr>\n",
       "      <th>796</th>\n",
       "      <td>719</td>\n",
       "      <td>DiancieMega Diancie</td>\n",
       "      <td>Rock</td>\n",
       "      <td>Fairy</td>\n",
       "      <td>700</td>\n",
       "      <td>50</td>\n",
       "      <td>160</td>\n",
       "      <td>110</td>\n",
       "      <td>160</td>\n",
       "      <td>110</td>\n",
       "      <td>110</td>\n",
       "      <td>6</td>\n",
       "      <td>True</td>\n",
       "    </tr>\n",
       "    <tr>\n",
       "      <th>797</th>\n",
       "      <td>720</td>\n",
       "      <td>HoopaHoopa Confined</td>\n",
       "      <td>Psychic</td>\n",
       "      <td>Ghost</td>\n",
       "      <td>600</td>\n",
       "      <td>80</td>\n",
       "      <td>110</td>\n",
       "      <td>60</td>\n",
       "      <td>150</td>\n",
       "      <td>130</td>\n",
       "      <td>70</td>\n",
       "      <td>6</td>\n",
       "      <td>True</td>\n",
       "    </tr>\n",
       "    <tr>\n",
       "      <th>798</th>\n",
       "      <td>720</td>\n",
       "      <td>HoopaHoopa Unbound</td>\n",
       "      <td>Psychic</td>\n",
       "      <td>Dark</td>\n",
       "      <td>680</td>\n",
       "      <td>80</td>\n",
       "      <td>160</td>\n",
       "      <td>60</td>\n",
       "      <td>170</td>\n",
       "      <td>130</td>\n",
       "      <td>80</td>\n",
       "      <td>6</td>\n",
       "      <td>True</td>\n",
       "    </tr>\n",
       "    <tr>\n",
       "      <th>799</th>\n",
       "      <td>721</td>\n",
       "      <td>Volcanion</td>\n",
       "      <td>Fire</td>\n",
       "      <td>Water</td>\n",
       "      <td>600</td>\n",
       "      <td>80</td>\n",
       "      <td>110</td>\n",
       "      <td>120</td>\n",
       "      <td>130</td>\n",
       "      <td>90</td>\n",
       "      <td>70</td>\n",
       "      <td>6</td>\n",
       "      <td>True</td>\n",
       "    </tr>\n",
       "  </tbody>\n",
       "</table>\n",
       "<p>82 rows × 13 columns</p>\n",
       "</div>"
      ],
      "text/plain": [
       "       #                 Name   Type 1    Type 2  Total  HP  Attack  Defense  \\\n",
       "718  650              Chespin    Grass       NaN    313  56      61       65   \n",
       "719  651            Quilladin    Grass       NaN    405  61      78       95   \n",
       "720  652           Chesnaught    Grass  Fighting    530  88     107      122   \n",
       "721  653             Fennekin     Fire       NaN    307  40      45       40   \n",
       "722  654              Braixen     Fire       NaN    409  59      59       58   \n",
       "..   ...                  ...      ...       ...    ...  ..     ...      ...   \n",
       "795  719              Diancie     Rock     Fairy    600  50     100      150   \n",
       "796  719  DiancieMega Diancie     Rock     Fairy    700  50     160      110   \n",
       "797  720  HoopaHoopa Confined  Psychic     Ghost    600  80     110       60   \n",
       "798  720   HoopaHoopa Unbound  Psychic      Dark    680  80     160       60   \n",
       "799  721            Volcanion     Fire     Water    600  80     110      120   \n",
       "\n",
       "     Sp. Atk  Sp. Def  Speed  Generation  Legendary  \n",
       "718       48       45     38           6      False  \n",
       "719       56       58     57           6      False  \n",
       "720       74       75     64           6      False  \n",
       "721       62       60     60           6      False  \n",
       "722       90       70     73           6      False  \n",
       "..       ...      ...    ...         ...        ...  \n",
       "795      100      150     50           6       True  \n",
       "796      160      110    110           6       True  \n",
       "797      150      130     70           6       True  \n",
       "798      170      130     80           6       True  \n",
       "799      130       90     70           6       True  \n",
       "\n",
       "[82 rows x 13 columns]"
      ]
     },
     "execution_count": 46,
     "metadata": {},
     "output_type": "execute_result"
    }
   ],
   "source": [
    "df[df['Generation'] == 6]"
   ]
  },
  {
   "cell_type": "code",
   "execution_count": 33,
   "id": "3a0070f3",
   "metadata": {},
   "outputs": [],
   "source": [
    "Gen1 = df[df['Generation'] == 1]\n",
    "Gen3 = df[df['Generation'] == 3]\n",
    "Gen6 = df[df['Generation'] == 6]"
   ]
  },
  {
   "cell_type": "code",
   "execution_count": 95,
   "id": "a5cb435e",
   "metadata": {
    "scrolled": false
   },
   "outputs": [
    {
     "data": {
      "text/plain": [
       "<AxesSubplot:xlabel='Sp. Atk', ylabel='Count'>"
      ]
     },
     "execution_count": 95,
     "metadata": {},
     "output_type": "execute_result"
    },
    {
     "data": {
      "image/png": "[encoded data removed]",
      "text/plain": [
       "<Figure size 640x480 with 1 Axes>"
      ]
     },
     "metadata": {},
     "output_type": "display_data"
    }
   ],
   "source": [
    "sns.histplot(data=Gen1, x='Sp. Atk', color='red', bins = 50)\n",
    "sns.histplot(data=Gen1, x='Sp. Def', color ='blue', bins = 50)\n",
    "sns.histplot(data=Gen3, x='Sp. Atk', color='orange', bins = 50)\n",
    "sns.histplot(data=Gen3, x='Sp. Def', color='teal', bins = 50)\n",
    "sns.histplot(data=Gen6, x='Sp. Atk', color='green', bins = 50)\n",
    "sns.histplot(data=Gen6, x='Sp. Def', color='black', bins = 50)"
   ]
  },
  {
   "cell_type": "code",
   "execution_count": 74,
   "id": "d390ae1b",
   "metadata": {
    "scrolled": true
   },
   "outputs": [],
   "source": [
    "Gen1Atk=Gen1['Sp. Atk'].mean()\n",
    "Gen1Def=Gen1['Sp. Def'].mean()\n",
    "Gen3Atk=Gen3['Sp. Atk'].mean()\n",
    "Gen3Def=Gen3['Sp. Def'].mean()\n",
    "Gen6Atk=Gen6['Sp. Atk'].mean()\n",
    "Gen6Def=Gen6['Sp. Def'].mean()"
   ]
  },
  {
   "cell_type": "code",
   "execution_count": 84,
   "id": "b3da1467",
   "metadata": {},
   "outputs": [],
   "source": [
    "sdgen1Atk=Gen1['Sp. Atk'].std()\n",
    "sdgen1Def=Gen1['Sp. Def'].std()\n",
    "sdgen3Atk=Gen3['Sp. Atk'].std()\n",
    "sdgen3Def=Gen3['Sp. Def'].std()\n",
    "sdgen6Atk=Gen6['Sp. Atk'].std()\n",
    "sdgen6Def=Gen6['Sp. Def'].std()"
   ]
  },
  {
   "cell_type": "code",
   "execution_count": 96,
   "id": "e738e945",
   "metadata": {},
   "outputs": [
    {
     "data": {
      "text/plain": [
       "31.37810032405005"
      ]
     },
     "execution_count": 96,
     "metadata": {},
     "output_type": "execute_result"
    }
   ],
   "source": [
    "(sdgen1Atk+sdgen1Def+sdgen3Atk+sdgen3Def+sdgen6Atk+sdgen6Def)/6"
   ]
  },
  {
   "cell_type": "code",
   "execution_count": 75,
   "id": "78e849f0",
   "metadata": {
    "scrolled": true
   },
   "outputs": [
    {
     "data": {
      "text/plain": [
       "71.81927710843374"
      ]
     },
     "execution_count": 75,
     "metadata": {},
     "output_type": "execute_result"
    }
   ],
   "source": [
    "Gen1Atk"
   ]
  },
  {
   "cell_type": "code",
   "execution_count": 76,
   "id": "b9bbae7b",
   "metadata": {},
   "outputs": [
    {
     "data": {
      "text/plain": [
       "69.09036144578313"
      ]
     },
     "execution_count": 76,
     "metadata": {},
     "output_type": "execute_result"
    }
   ],
   "source": [
    "Gen1Def"
   ]
  },
  {
   "cell_type": "code",
   "execution_count": 77,
   "id": "dd39608a",
   "metadata": {},
   "outputs": [
    {
     "data": {
      "text/plain": [
       "75.80625"
      ]
     },
     "execution_count": 77,
     "metadata": {},
     "output_type": "execute_result"
    }
   ],
   "source": [
    "Gen3Atk"
   ]
  },
  {
   "cell_type": "code",
   "execution_count": 78,
   "id": "ecba9ec7",
   "metadata": {},
   "outputs": [
    {
     "data": {
      "text/plain": [
       "71.225"
      ]
     },
     "execution_count": 78,
     "metadata": {},
     "output_type": "execute_result"
    }
   ],
   "source": [
    "Gen3Def"
   ]
  },
  {
   "cell_type": "code",
   "execution_count": 79,
   "id": "f79a7dbe",
   "metadata": {},
   "outputs": [
    {
     "data": {
      "text/plain": [
       "74.29268292682927"
      ]
     },
     "execution_count": 79,
     "metadata": {},
     "output_type": "execute_result"
    }
   ],
   "source": [
    "Gen6Atk"
   ]
  },
  {
   "cell_type": "code",
   "execution_count": 81,
   "id": "300344e0",
   "metadata": {},
   "outputs": [
    {
     "data": {
      "text/plain": [
       "74.89024390243902"
      ]
     },
     "execution_count": 81,
     "metadata": {},
     "output_type": "execute_result"
    }
   ],
   "source": [
    "Gen6Def"
   ]
  },
  {
   "cell_type": "markdown",
   "id": "77e676b2",
   "metadata": {},
   "source": [
    "# My Answer"
   ]
  },
  {
   "cell_type": "markdown",
   "id": "16aec0ac",
   "metadata": {},
   "source": [
    "On average, the Special Defense of Pokemon were consistently increasing as more generations were made, with an 8.39% change from Gen 1 to Gen 6. Meanwhile, the Special Attack of also increased over the generations, but oddly, it decreased going from Gen 3 to Gen 6. From Gen 1 to Gen 6, there was an increase of 3.44% in terms of Special Attack; but from Gen 3 to Gen 6, there was actually a decrease of 2%. Furthermore, there were numerous amounts of pokemon who had stats beyond the standard deviation of these stats for all 3 generations. The average standard deviation for all the stats was around 31.3781003, with the averages hovering around 70-75 for both Special Atk and Special Def, there are still numerous Pokemon who were far beyond these ranges, with many specific Pokemon having Special Atk and Special Def massively above 125 across all 3 generations. Although, these are mostly outliers that have unique circumstances surrounding them, such as the status of a legendary pokemon, with the worst offender having a stat of 200 Special Atk. "
   ]
  }
 ],
 "metadata": {
  "kernelspec": {
   "display_name": "Python 3 (ipykernel)",
   "language": "python",
   "name": "python3"
  },
  "language_info": {
   "codemirror_mode": {
    "name": "ipython",
    "version": 3
   },
   "file_extension": ".py",
   "mimetype": "text/x-python",
   "name": "python",
   "nbconvert_exporter": "python",
   "pygments_lexer": "ipython3",
   "version": "3.9.13"
  }
 },
 "nbformat": 4,
 "nbformat_minor": 5
}
