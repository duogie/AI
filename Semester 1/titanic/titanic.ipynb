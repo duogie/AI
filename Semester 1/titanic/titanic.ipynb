{
 "cells": [
  {
   "cell_type": "code",
   "execution_count": 1,
   "id": "57ed5218",
   "metadata": {},
   "outputs": [],
   "source": [
    "import pandas as pd"
   ]
  },
  {
   "cell_type": "code",
   "execution_count": 2,
   "id": "38262659",
   "metadata": {},
   "outputs": [],
   "source": [
    "tt = pd.read_csv(r'C:\\Users\\dngo6\\Downloads\\titanic.csv')"
   ]
  },
  {
   "cell_type": "code",
   "execution_count": 3,
   "id": "9d24d024",
   "metadata": {
    "scrolled": true
   },
   "outputs": [
    {
     "name": "stdout",
     "output_type": "stream",
     "text": [
      "<bound method DataFrame.to_string of      PassengerId  Survived  Pclass  \\\n",
      "0              1         0       3   \n",
      "1              2         1       1   \n",
      "2              3         1       3   \n",
      "3              4         1       1   \n",
      "4              5         0       3   \n",
      "..           ...       ...     ...   \n",
      "886          887         0       2   \n",
      "887          888         1       1   \n",
      "888          889         0       3   \n",
      "889          890         1       1   \n",
      "890          891         0       3   \n",
      "\n",
      "                                                  Name     Sex   Age  SibSp  \\\n",
      "0                              Braund, Mr. Owen Harris    male  22.0      1   \n",
      "1    Cumings, Mrs. John Bradley (Florence Briggs Th...  female  38.0      1   \n",
      "2                               Heikkinen, Miss. Laina  female  26.0      0   \n",
      "3         Futrelle, Mrs. Jacques Heath (Lily May Peel)  female  35.0      1   \n",
      "4                             Allen, Mr. William Henry    male  35.0      0   \n",
      "..                                                 ...     ...   ...    ...   \n",
      "886                              Montvila, Rev. Juozas    male  27.0      0   \n",
      "887                       Graham, Miss. Margaret Edith  female  19.0      0   \n",
      "888           Johnston, Miss. Catherine Helen \"Carrie\"  female   NaN      1   \n",
      "889                              Behr, Mr. Karl Howell    male  26.0      0   \n",
      "890                                Dooley, Mr. Patrick    male  32.0      0   \n",
      "\n",
      "     Parch            Ticket     Fare Cabin Embarked  \n",
      "0        0         A/5 21171   7.2500   NaN        S  \n",
      "1        0          PC 17599  71.2833   C85        C  \n",
      "2        0  STON/O2. 3101282   7.9250   NaN        S  \n",
      "3        0            113803  53.1000  C123        S  \n",
      "4        0            373450   8.0500   NaN        S  \n",
      "..     ...               ...      ...   ...      ...  \n",
      "886      0            211536  13.0000   NaN        S  \n",
      "887      0            112053  30.0000   B42        S  \n",
      "888      2        W./C. 6607  23.4500   NaN        S  \n",
      "889      0            111369  30.0000  C148        C  \n",
      "890      0            370376   7.7500   NaN        Q  \n",
      "\n",
      "[891 rows x 12 columns]>\n"
     ]
    }
   ],
   "source": [
    "print(tt.to_string)"
   ]
  },
  {
   "cell_type": "code",
   "execution_count": 4,
   "id": "4072d623",
   "metadata": {},
   "outputs": [
    {
     "data": {
      "text/plain": [
       "Index(['PassengerId', 'Survived', 'Pclass', 'Name', 'Sex', 'Age', 'SibSp',\n",
       "       'Parch', 'Ticket', 'Fare', 'Cabin', 'Embarked'],\n",
       "      dtype='object')"
      ]
     },
     "execution_count": 4,
     "metadata": {},
     "output_type": "execute_result"
    }
   ],
   "source": [
    "tt.columns"
   ]
  },
  {
   "cell_type": "code",
   "execution_count": 5,
   "id": "48aab192",
   "metadata": {},
   "outputs": [
    {
     "data": {
      "text/plain": [
       "PassengerId                  100\n",
       "Survived                       0\n",
       "Pclass                         2\n",
       "Name           Kantor, Mr. Sinai\n",
       "Sex                         male\n",
       "Age                         34.0\n",
       "SibSp                          1\n",
       "Parch                          0\n",
       "Ticket                    244367\n",
       "Fare                        26.0\n",
       "Cabin                        NaN\n",
       "Embarked                       S\n",
       "Name: 99, dtype: object"
      ]
     },
     "execution_count": 5,
     "metadata": {},
     "output_type": "execute_result"
    }
   ],
   "source": [
    "tt.iloc[99]"
   ]
  },
  {
   "cell_type": "code",
   "execution_count": 6,
   "id": "4bb2f02f",
   "metadata": {},
   "outputs": [
    {
     "data": {
      "text/plain": [
       "<bound method NDFrame.tail of      PassengerId  Survived  Pclass  \\\n",
       "0              1         0       3   \n",
       "1              2         1       1   \n",
       "2              3         1       3   \n",
       "3              4         1       1   \n",
       "4              5         0       3   \n",
       "..           ...       ...     ...   \n",
       "886          887         0       2   \n",
       "887          888         1       1   \n",
       "888          889         0       3   \n",
       "889          890         1       1   \n",
       "890          891         0       3   \n",
       "\n",
       "                                                  Name     Sex   Age  SibSp  \\\n",
       "0                              Braund, Mr. Owen Harris    male  22.0      1   \n",
       "1    Cumings, Mrs. John Bradley (Florence Briggs Th...  female  38.0      1   \n",
       "2                               Heikkinen, Miss. Laina  female  26.0      0   \n",
       "3         Futrelle, Mrs. Jacques Heath (Lily May Peel)  female  35.0      1   \n",
       "4                             Allen, Mr. William Henry    male  35.0      0   \n",
       "..                                                 ...     ...   ...    ...   \n",
       "886                              Montvila, Rev. Juozas    male  27.0      0   \n",
       "887                       Graham, Miss. Margaret Edith  female  19.0      0   \n",
       "888           Johnston, Miss. Catherine Helen \"Carrie\"  female   NaN      1   \n",
       "889                              Behr, Mr. Karl Howell    male  26.0      0   \n",
       "890                                Dooley, Mr. Patrick    male  32.0      0   \n",
       "\n",
       "     Parch            Ticket     Fare Cabin Embarked  \n",
       "0        0         A/5 21171   7.2500   NaN        S  \n",
       "1        0          PC 17599  71.2833   C85        C  \n",
       "2        0  STON/O2. 3101282   7.9250   NaN        S  \n",
       "3        0            113803  53.1000  C123        S  \n",
       "4        0            373450   8.0500   NaN        S  \n",
       "..     ...               ...      ...   ...      ...  \n",
       "886      0            211536  13.0000   NaN        S  \n",
       "887      0            112053  30.0000   B42        S  \n",
       "888      2        W./C. 6607  23.4500   NaN        S  \n",
       "889      0            111369  30.0000  C148        C  \n",
       "890      0            370376   7.7500   NaN        Q  \n",
       "\n",
       "[891 rows x 12 columns]>"
      ]
     },
     "execution_count": 6,
     "metadata": {},
     "output_type": "execute_result"
    }
   ],
   "source": [
    "tt.tail"
   ]
  },
  {
   "cell_type": "code",
   "execution_count": 7,
   "id": "62893cae",
   "metadata": {},
   "outputs": [],
   "source": [
    "tt.loc[[5], 'Age'] = 25"
   ]
  },
  {
   "cell_type": "code",
   "execution_count": 8,
   "id": "1829d0ca",
   "metadata": {},
   "outputs": [
    {
     "data": {
      "text/plain": [
       "PassengerId                   6\n",
       "Survived                      0\n",
       "Pclass                        3\n",
       "Name           Moran, Mr. James\n",
       "Sex                        male\n",
       "Age                        25.0\n",
       "SibSp                         0\n",
       "Parch                         0\n",
       "Ticket                   330877\n",
       "Fare                     8.4583\n",
       "Cabin                       NaN\n",
       "Embarked                      Q\n",
       "Name: 5, dtype: object"
      ]
     },
     "execution_count": 8,
     "metadata": {},
     "output_type": "execute_result"
    }
   ],
   "source": [
    "tt.iloc[5]"
   ]
  },
  {
   "cell_type": "code",
   "execution_count": 9,
   "id": "df0e5407",
   "metadata": {},
   "outputs": [
    {
     "name": "stdout",
     "output_type": "stream",
     "text": [
      "576\n"
     ]
    }
   ],
   "source": [
    "threshold = 18 \n",
    "agefilteredtt = tt[tt['Age'] > threshold]\n",
    "filteredage = agefilteredtt['Age'].count()\n",
    "print(filteredage)"
   ]
  },
  {
   "cell_type": "code",
   "execution_count": 10,
   "id": "16e9c0e8",
   "metadata": {},
   "outputs": [
    {
     "name": "stdout",
     "output_type": "stream",
     "text": [
      "0.11223344556677892\n"
     ]
    }
   ],
   "source": [
    "for person in tt[\"Sex\"]:\n",
    "    count = 0\n",
    "    if person == \"male\":\n",
    "        count = count + 1\n",
    "count = (count / len(tt))*100\n",
    "print(count)"
   ]
  },
  {
   "cell_type": "code",
   "execution_count": 11,
   "id": "712d577b",
   "metadata": {},
   "outputs": [
    {
     "name": "stdout",
     "output_type": "stream",
     "text": [
      "   Passenger Class  Number of Tickets\n",
      "0                3                491\n",
      "1                1                216\n",
      "2                2                184\n"
     ]
    }
   ],
   "source": [
    "frequency_table = tt['Pclass'].value_counts()\n",
    "frequencydata = frequency_table.reset_index()\n",
    "frequencydata.columns = ['Passenger Class', 'Number of Tickets']\n",
    "frequencydata.to_csv('classtable.csv', index=False)\n",
    "ftb = pd.read_csv('classtable.csv')\n",
    "print(ftb)"
   ]
  },
  {
   "cell_type": "code",
   "execution_count": 12,
   "id": "64b7e0d8",
   "metadata": {},
   "outputs": [
    {
     "name": "stdout",
     "output_type": "stream",
     "text": [
      "    Embarked\n",
      "S  72.440945\n",
      "C  18.897638\n",
      "Q   8.661417\n"
     ]
    }
   ],
   "source": [
    "ports = tt['Embarked'].value_counts(normalize=True)*100\n",
    "ttports = pd.DataFrame(ports)\n",
    "print(ttports)"
   ]
  },
  {
   "cell_type": "code",
   "execution_count": 13,
   "id": "fea4c292",
   "metadata": {},
   "outputs": [
    {
     "data": {
      "text/html": [
       "<div>\n",
       "<style scoped>\n",
       "    .dataframe tbody tr th:only-of-type {\n",
       "        vertical-align: middle;\n",
       "    }\n",
       "\n",
       "    .dataframe tbody tr th {\n",
       "        vertical-align: top;\n",
       "    }\n",
       "\n",
       "    .dataframe thead th {\n",
       "        text-align: right;\n",
       "    }\n",
       "</style>\n",
       "<table border=\"1\" class=\"dataframe\">\n",
       "  <thead>\n",
       "    <tr style=\"text-align: right;\">\n",
       "      <th></th>\n",
       "      <th>PassengerId</th>\n",
       "      <th>Survived</th>\n",
       "      <th>Pclass</th>\n",
       "      <th>Name</th>\n",
       "      <th>Sex</th>\n",
       "      <th>Age</th>\n",
       "      <th>SibSp</th>\n",
       "      <th>Parch</th>\n",
       "      <th>Ticket</th>\n",
       "      <th>Fare</th>\n",
       "      <th>Cabin</th>\n",
       "      <th>Embarked</th>\n",
       "    </tr>\n",
       "  </thead>\n",
       "  <tbody>\n",
       "    <tr>\n",
       "      <th>527</th>\n",
       "      <td>528</td>\n",
       "      <td>0</td>\n",
       "      <td>1</td>\n",
       "      <td>Farthing, Mr. John</td>\n",
       "      <td>male</td>\n",
       "      <td>NaN</td>\n",
       "      <td>0</td>\n",
       "      <td>0</td>\n",
       "      <td>PC 17483</td>\n",
       "      <td>221.7792</td>\n",
       "      <td>C95</td>\n",
       "      <td>S</td>\n",
       "    </tr>\n",
       "  </tbody>\n",
       "</table>\n",
       "</div>"
      ],
      "text/plain": [
       "     PassengerId  Survived  Pclass                Name   Sex  Age  SibSp  \\\n",
       "527          528         0       1  Farthing, Mr. John  male  NaN      0   \n",
       "\n",
       "     Parch    Ticket      Fare Cabin Embarked  \n",
       "527      0  PC 17483  221.7792   C95        S  "
      ]
     },
     "execution_count": 13,
     "metadata": {},
     "output_type": "execute_result"
    }
   ],
   "source": [
    "tt.loc[tt['PassengerId']==528]"
   ]
  },
  {
   "cell_type": "code",
   "execution_count": 14,
   "id": "58ee13be",
   "metadata": {},
   "outputs": [
    {
     "data": {
      "text/html": [
       "<div>\n",
       "<style scoped>\n",
       "    .dataframe tbody tr th:only-of-type {\n",
       "        vertical-align: middle;\n",
       "    }\n",
       "\n",
       "    .dataframe tbody tr th {\n",
       "        vertical-align: top;\n",
       "    }\n",
       "\n",
       "    .dataframe thead th {\n",
       "        text-align: right;\n",
       "    }\n",
       "</style>\n",
       "<table border=\"1\" class=\"dataframe\">\n",
       "  <thead>\n",
       "    <tr style=\"text-align: right;\">\n",
       "      <th></th>\n",
       "      <th>PassengerId</th>\n",
       "      <th>Survived</th>\n",
       "      <th>Pclass</th>\n",
       "      <th>Name</th>\n",
       "      <th>Sex</th>\n",
       "      <th>Age</th>\n",
       "      <th>SibSp</th>\n",
       "      <th>Parch</th>\n",
       "      <th>Ticket</th>\n",
       "      <th>Fare</th>\n",
       "      <th>Cabin</th>\n",
       "      <th>Embarked</th>\n",
       "    </tr>\n",
       "  </thead>\n",
       "  <tbody>\n",
       "    <tr>\n",
       "      <th>706</th>\n",
       "      <td>707</td>\n",
       "      <td>1</td>\n",
       "      <td>2</td>\n",
       "      <td>Kelly, Mrs. Florence \"Fannie\"</td>\n",
       "      <td>female</td>\n",
       "      <td>45.0</td>\n",
       "      <td>0</td>\n",
       "      <td>0</td>\n",
       "      <td>223596</td>\n",
       "      <td>13.5</td>\n",
       "      <td>NaN</td>\n",
       "      <td>S</td>\n",
       "    </tr>\n",
       "  </tbody>\n",
       "</table>\n",
       "</div>"
      ],
      "text/plain": [
       "     PassengerId  Survived  Pclass                           Name     Sex  \\\n",
       "706          707         1       2  Kelly, Mrs. Florence \"Fannie\"  female   \n",
       "\n",
       "      Age  SibSp  Parch  Ticket  Fare Cabin Embarked  \n",
       "706  45.0      0      0  223596  13.5   NaN        S  "
      ]
     },
     "execution_count": 14,
     "metadata": {},
     "output_type": "execute_result"
    }
   ],
   "source": [
    "tt.loc[tt['Name'].str.contains('Fannie')]"
   ]
  },
  {
   "cell_type": "code",
   "execution_count": 15,
   "id": "c77eb4af",
   "metadata": {
    "scrolled": false
   },
   "outputs": [
    {
     "name": "stdout",
     "output_type": "stream",
     "text": [
      "<bound method Series.to_string of 21    2.730030\n",
      "45    2.730030\n",
      "30    2.527806\n",
      "67    2.527806\n",
      "50    2.426694\n",
      "        ...   \n",
      "9     0.101112\n",
      "15    0.101112\n",
      "0     0.101112\n",
      "2     0.101112\n",
      "87    0.101112\n",
      "Name: Age, Length: 78, dtype: float64>\n"
     ]
    }
   ],
   "source": [
    "estonia = pd.read_csv(r'C:\\Users\\dngo6\\Downloads\\estonia.csv')\n",
    "estoniadata = pd.DataFrame(estonia)\n",
    "estoniaft = estoniadata['Age'].value_counts(normalize=True)*100\n",
    "print(estoniaft.to_string)"
   ]
  },
  {
   "cell_type": "code",
   "execution_count": 16,
   "id": "46267038",
   "metadata": {},
   "outputs": [
    {
     "data": {
      "text/html": [
       "<div>\n",
       "<style scoped>\n",
       "    .dataframe tbody tr th:only-of-type {\n",
       "        vertical-align: middle;\n",
       "    }\n",
       "\n",
       "    .dataframe tbody tr th {\n",
       "        vertical-align: top;\n",
       "    }\n",
       "\n",
       "    .dataframe thead th {\n",
       "        text-align: right;\n",
       "    }\n",
       "</style>\n",
       "<table border=\"1\" class=\"dataframe\">\n",
       "  <thead>\n",
       "    <tr style=\"text-align: right;\">\n",
       "      <th>Survived</th>\n",
       "      <th>0</th>\n",
       "      <th>1</th>\n",
       "      <th>All</th>\n",
       "    </tr>\n",
       "    <tr>\n",
       "      <th>Sex</th>\n",
       "      <th></th>\n",
       "      <th></th>\n",
       "      <th></th>\n",
       "    </tr>\n",
       "  </thead>\n",
       "  <tbody>\n",
       "    <tr>\n",
       "      <th>female</th>\n",
       "      <td>81</td>\n",
       "      <td>233</td>\n",
       "      <td>314</td>\n",
       "    </tr>\n",
       "    <tr>\n",
       "      <th>male</th>\n",
       "      <td>468</td>\n",
       "      <td>109</td>\n",
       "      <td>577</td>\n",
       "    </tr>\n",
       "    <tr>\n",
       "      <th>All</th>\n",
       "      <td>549</td>\n",
       "      <td>342</td>\n",
       "      <td>891</td>\n",
       "    </tr>\n",
       "  </tbody>\n",
       "</table>\n",
       "</div>"
      ],
      "text/plain": [
       "Survived    0    1  All\n",
       "Sex                    \n",
       "female     81  233  314\n",
       "male      468  109  577\n",
       "All       549  342  891"
      ]
     },
     "execution_count": 16,
     "metadata": {},
     "output_type": "execute_result"
    }
   ],
   "source": [
    "pd.crosstab(index=tt['Sex'], columns=tt['Survived'], margins=True)"
   ]
  },
  {
   "cell_type": "code",
   "execution_count": 17,
   "id": "727b3c4c",
   "metadata": {},
   "outputs": [
    {
     "name": "stdout",
     "output_type": "stream",
     "text": [
      "          Male  Female\n",
      "Died       109     233\n",
      "Survived   468      81\n"
     ]
    }
   ],
   "source": [
    "maleSurvive = 0\n",
    "femaleSurvive = 0\n",
    "maleDied = 0\n",
    "femaleDied = 0\n",
    "for idx in range(len(tt)):\n",
    "    if tt.loc[idx]['Sex'] == 'male' and tt.loc[idx]['Survived']== 0:\n",
    "        maleDied+=1\n",
    "    if tt.loc[idx]['Sex'] == 'male' and tt.loc[idx]['Survived']==1:\n",
    "        maleSurvive+=1\n",
    "    if tt.loc[idx]['Sex'] == 'female' and tt.loc[idx]['Survived']==0:\n",
    "        femaleDied+=1\n",
    "    if tt.loc[idx]['Sex'] =='female' and tt.loc[idx]['Survived']==1:\n",
    "        femaleSurvive+=1\n",
    "genderctable= pd.DataFrame({\n",
    "    'Male' : [maleSurvive, maleDied],\n",
    "    'Female' : [femaleSurvive, femaleDied]\n",
    "\n",
    "}, index=['Died', 'Survived'])\n",
    "print(genderctable.head())"
   ]
  },
  {
   "cell_type": "code",
   "execution_count": 18,
   "id": "e50ea516",
   "metadata": {},
   "outputs": [
    {
     "name": "stdout",
     "output_type": "stream",
     "text": [
      "     PassengerId  Survived  Pclass  \\\n",
      "0              1         0       3   \n",
      "1              2         1       1   \n",
      "2              3         1       3   \n",
      "3              4         1       1   \n",
      "4              5         0       3   \n",
      "..           ...       ...     ...   \n",
      "886          887         0       2   \n",
      "887          888         1       1   \n",
      "888          889         0       3   \n",
      "889          890         1       1   \n",
      "890          891         0       3   \n",
      "\n",
      "                                                  Name     Sex   Age  SibSp  \\\n",
      "0                              Braund, Mr. Owen Harris    male  22.0      1   \n",
      "1    Cumings, Mrs. John Bradley (Florence Briggs Th...  female  38.0      1   \n",
      "2                               Heikkinen, Miss. Laina  female  26.0      0   \n",
      "3         Futrelle, Mrs. Jacques Heath (Lily May Peel)  female  35.0      1   \n",
      "4                             Allen, Mr. William Henry    male  35.0      0   \n",
      "..                                                 ...     ...   ...    ...   \n",
      "886                              Montvila, Rev. Juozas    male  27.0      0   \n",
      "887                       Graham, Miss. Margaret Edith  female  19.0      0   \n",
      "888           Johnston, Miss. Catherine Helen \"Carrie\"  female   NaN      1   \n",
      "889                              Behr, Mr. Karl Howell    male  26.0      0   \n",
      "890                                Dooley, Mr. Patrick    male  32.0      0   \n",
      "\n",
      "     Parch            Ticket     Fare Cabin Embarked agegroup  \n",
      "0        0         A/5 21171   7.2500   NaN        S   Medium  \n",
      "1        0          PC 17599  71.2833   C85        C    Major  \n",
      "2        0  STON/O2. 3101282   7.9250   NaN        S   Medium  \n",
      "3        0            113803  53.1000  C123        S    Major  \n",
      "4        0            373450   8.0500   NaN        S    Major  \n",
      "..     ...               ...      ...   ...      ...      ...  \n",
      "886      0            211536  13.0000   NaN        S   Medium  \n",
      "887      0            112053  30.0000   B42        S   Medium  \n",
      "888      2        W./C. 6607  23.4500   NaN        S      NaN  \n",
      "889      0            111369  30.0000  C148        C   Medium  \n",
      "890      0            370376   7.7500   NaN        Q   Medium  \n",
      "\n",
      "[891 rows x 13 columns]\n"
     ]
    }
   ],
   "source": [
    "agebins = [0, 18, 35, 55]\n",
    "agelabels = ['Minor', 'Medium', 'Major']\n",
    "tt['agegroup'] = pd.cut(tt['Age'], bins=agebins, labels=agelabels, right=False)\n",
    "print(tt)"
   ]
  },
  {
   "cell_type": "code",
   "execution_count": 19,
   "id": "0e4beae5",
   "metadata": {},
   "outputs": [],
   "source": [
    "minorSurvive = 0\n",
    "mediumSurvive = 0\n",
    "majorSurvive = 0\n",
    "minorDied = 0\n",
    "mediumDied = 0\n",
    "majorDied = 0\n",
    "for idx in range(len(tt)):\n",
    "    if tt.loc[idx]['agegroup'] == 'Minor' and tt.loc[idx]['Survived']== 0:\n",
    "        minorDied+=1\n",
    "    if tt.loc[idx]['agegroup'] == 'Minor' and tt.loc[idx]['Survived']==1:\n",
    "        minorSurvive+=1\n",
    "    if tt.loc[idx]['agegroup'] == 'Medium' and tt.loc[idx]['Survived']==0:\n",
    "        mediumDied+=1\n",
    "    if tt.loc[idx]['agegroup'] =='Medium' and tt.loc[idx]['Survived']==1:\n",
    "        mediumSurvive+=1\n",
    "    if tt.loc[idx]['agegroup'] == 'Major' and tt.loc[idx]['Survived']==0:\n",
    "        majorDied+=1\n",
    "    if tt.loc[idx]['agegroup'] =='Major' and tt.loc[idx]['Survived']==1:\n",
    "        majorSurvive+=1\n",
    "ctable = {\n",
    "    'Minor': [minorSurvive, minorDied],\n",
    "    'Medium': [mediumSurvive, mediumDied],\n",
    "    'Major': [majorSurvive, majorDied]\n",
    "}\n",
    "agectable = pd.DataFrame(ctable, index=['Survived', 'Died'])\n",
    "agectable.loc['Total']=agectable.loc['Survived']+agectable.loc['Died']\n"
   ]
  },
  {
   "cell_type": "code",
   "execution_count": 33,
   "id": "29f7a366",
   "metadata": {},
   "outputs": [
    {
     "name": "stdout",
     "output_type": "stream",
     "text": [
      "                  S          C          Q\n",
      "Survived  33.695652  55.357143  38.961039\n",
      "Died      66.304348  44.642857  61.038961\n"
     ]
    }
   ],
   "source": [
    "csurvive = 0\n",
    "cdied = 0\n",
    "ssurvive = 0\n",
    "sdied = 0\n",
    "qsurvive = 0\n",
    "qdied = 0\n",
    "for idx in range(len(tt)):\n",
    "    if tt.loc[idx]['Embarked'] == 'S' and tt.loc[idx]['Survived']== 0:\n",
    "        sdied+=1\n",
    "    if tt.loc[idx]['Embarked'] == 'S' and tt.loc[idx]['Survived']==1:\n",
    "        ssurvive+=1\n",
    "    if tt.loc[idx]['Embarked'] == 'C' and tt.loc[idx]['Survived']==0:\n",
    "        cdied+=1\n",
    "    if tt.loc[idx]['Embarked'] =='C' and tt.loc[idx]['Survived']==1:\n",
    "        csurvive+=1\n",
    "    if tt.loc[idx]['Embarked'] == 'Q' and tt.loc[idx]['Survived']==0:\n",
    "        qdied+=1\n",
    "    if tt.loc[idx]['Embarked'] =='Q' and tt.loc[idx]['Survived']==1:\n",
    "        qsurvive+=1\n",
    "embarkedtable = {\n",
    "    'S': [ssurvive, sdied],\n",
    "    'C': [csurvive, cdied],\n",
    "    'Q': [qsurvive, qdied]\n",
    "}\n",
    "embarkedsurvivetable = pd.DataFrame(embarkedtable, index=['Survived', 'Died'])\n",
    "embarkedtotal==embarkedsurvivetable.loc['Survived']+embarkedsurvivetable.loc['Died']\n",
    "embarkedpercentage=embarkedsurvivetable.copy()\n",
    "embarkedpercentage.loc['Survived'] = (embarkedpercentage.loc['Survived']/embarkedtotal)*100\n",
    "embarkedpercentage.loc['Died'] = (embarkedpercentage.loc['Died']/embarkedtotal)*100\n",
    "print(embarkedpercentage)"
   ]
  },
  {
   "cell_type": "code",
   "execution_count": 36,
   "id": "e3a9f47e",
   "metadata": {},
   "outputs": [
    {
     "data": {
      "text/plain": [
       "<function matplotlib.pyplot.show(close=None, block=None)>"
      ]
     },
     "execution_count": 36,
     "metadata": {},
     "output_type": "execute_result"
    },
    {
     "data": {
      "image/png": "[encoded data removed]",
      "text/plain": [
       "<Figure size 1000x600 with 1 Axes>"
      ]
     },
     "metadata": {},
     "output_type": "display_data"
    }
   ],
   "source": [
    "import seaborn as sns\n",
    "import matplotlib.pyplot as plt\n",
    "embarkedlongformat = embarkedpercentage.reset_index().melt(id_vars='index', var_name='Embarked', value_name='Percentage')\n",
    "embarkedlongformat.columns = ['Category', 'Embarked', 'Percentage']\n",
    "\n",
    "plt.figure(figsize=(10,6))\n",
    "sns.barplot(data=embarkedlongformat, x='Embarked', y='Percentage', hue='Category')\n",
    "plt.title('survival vs death based on city embarked')\n",
    "plt.xlabel('Embarked')\n",
    "plt.ylabel('Percentage')\n",
    "plt.legend(title='Category')\n",
    "plt.show"
   ]
  },
  {
   "cell_type": "code",
   "execution_count": null,
   "id": "c266d787",
   "metadata": {},
   "outputs": [],
   "source": []
  }
 ],
 "metadata": {
  "kernelspec": {
   "display_name": "Python 3 (ipykernel)",
   "language": "python",
   "name": "python3"
  },
  "language_info": {
   "codemirror_mode": {
    "name": "ipython",
    "version": 3
   },
   "file_extension": ".py",
   "mimetype": "text/x-python",
   "name": "python",
   "nbconvert_exporter": "python",
   "pygments_lexer": "ipython3",
   "version": "3.9.13"
  }
 },
 "nbformat": 4,
 "nbformat_minor": 5
}
