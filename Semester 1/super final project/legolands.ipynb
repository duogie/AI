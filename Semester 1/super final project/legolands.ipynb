{
 "cells": [
  {
   "cell_type": "markdown",
   "id": "e72e548d",
   "metadata": {},
   "source": [
    "# Choose a Data Set\n",
    "\n",
    "You can choose to analyze any data that you would like! Remember, you need 1000 rows of non-null data in order to get 5 points for the \"Data\" criteria of my [rubric](https://docs.google.com/document/d/1s3wllcF3LLnytxwD8mZ-BCypXKnfaahnizWGNojT-B4/edit?usp=sharing). Consider looking at [Kaggle](https://www.kaggle.com/datasets) or [free APIs](https://free-apis.github.io/#/browse) for datasets of this size. Alternatively, you can scrape the web to make your own dataset! :D\n",
    "\n",
    "Once you have chosen your dataset, please read your data into a dataframe and call `.info()` below. If you don't call `info` I will give you 0 points for the first criteria described on the [rubric](https://docs.google.com/document/d/1s3wllcF3LLnytxwD8mZ-BCypXKnfaahnizWGNojT-B4/edit?usp=sharing)."
   ]
  },
  {
   "cell_type": "code",
   "execution_count": null,
   "id": "d71eb2fa",
   "metadata": {},
   "outputs": [],
   "source": [
    "# Read data into a dataframe and call info()\n",
    "    # Example call:\n",
    "    # df = pd.DataFrame({\"A\":[1, 2, 3], \"B\":[4, 5, 6]})\n",
    "    # df.info()\n",
    "    "
   ]
  },
  {
   "cell_type": "markdown",
   "id": "109e5f57",
   "metadata": {},
   "source": [
    "# My Question"
   ]
  },
  {
   "cell_type": "markdown",
   "id": "94af0ecd",
   "metadata": {},
   "source": [
    "# Does North America SUCK at League of Legends?\n",
    "# Relative to Korea, which is considered the best region, how does North America compare in game length, how much game length affects the result, and international win rate?"
   ]
  },
  {
   "cell_type": "markdown",
   "id": "9070cec5",
   "metadata": {},
   "source": [
    "# My Analysis"
   ]
  },
  {
   "cell_type": "code",
   "execution_count": 1,
   "id": "1fbfebe3",
   "metadata": {},
   "outputs": [
    {
     "name": "stdout",
     "output_type": "stream",
     "text": [
      "<class 'pandas.core.frame.DataFrame'>\n",
      "RangeIndex: 7620 entries, 0 to 7619\n",
      "Data columns (total 57 columns):\n",
      " #   Column            Non-Null Count  Dtype \n",
      "---  ------            --------------  ----- \n",
      " 0   League            7620 non-null   object\n",
      " 1   Year              7620 non-null   int64 \n",
      " 2   Season            7620 non-null   object\n",
      " 3   Type              7620 non-null   object\n",
      " 4   blueTeamTag       7582 non-null   object\n",
      " 5   bResult           7620 non-null   int64 \n",
      " 6   rResult           7620 non-null   int64 \n",
      " 7   redTeamTag        7583 non-null   object\n",
      " 8   gamelength        7620 non-null   int64 \n",
      " 9   golddiff          7620 non-null   object\n",
      " 10  goldblue          7620 non-null   object\n",
      " 11  bKills            7620 non-null   object\n",
      " 12  bTowers           7620 non-null   object\n",
      " 13  bInhibs           7620 non-null   object\n",
      " 14  bDragons          7620 non-null   object\n",
      " 15  bBarons           7620 non-null   object\n",
      " 16  bHeralds          7620 non-null   object\n",
      " 17  goldred           7620 non-null   object\n",
      " 18  rKills            7620 non-null   object\n",
      " 19  rTowers           7620 non-null   object\n",
      " 20  rInhibs           7620 non-null   object\n",
      " 21  rDragons          7620 non-null   object\n",
      " 22  rBarons           7620 non-null   object\n",
      " 23  rHeralds          7620 non-null   object\n",
      " 24  blueTop           7583 non-null   object\n",
      " 25  blueTopChamp      7620 non-null   object\n",
      " 26  goldblueTop       7620 non-null   object\n",
      " 27  blueJungle        7592 non-null   object\n",
      " 28  blueJungleChamp   7620 non-null   object\n",
      " 29  goldblueJungle    7620 non-null   object\n",
      " 30  blueMiddle        7583 non-null   object\n",
      " 31  blueMiddleChamp   7620 non-null   object\n",
      " 32  goldblueMiddle    7620 non-null   object\n",
      " 33  blueADC           7583 non-null   object\n",
      " 34  blueADCChamp      7620 non-null   object\n",
      " 35  goldblueADC       7620 non-null   object\n",
      " 36  blueSupport       7583 non-null   object\n",
      " 37  blueSupportChamp  7620 non-null   object\n",
      " 38  goldblueSupport   7620 non-null   object\n",
      " 39  blueBans          7620 non-null   object\n",
      " 40  redTop            7583 non-null   object\n",
      " 41  redTopChamp       7620 non-null   object\n",
      " 42  goldredTop        7620 non-null   object\n",
      " 43  redJungle         7596 non-null   object\n",
      " 44  redJungleChamp    7620 non-null   object\n",
      " 45  goldredJungle     7620 non-null   object\n",
      " 46  redMiddle         7583 non-null   object\n",
      " 47  redMiddleChamp    7620 non-null   object\n",
      " 48  goldredMiddle     7620 non-null   object\n",
      " 49  redADC            7583 non-null   object\n",
      " 50  redADCChamp       7620 non-null   object\n",
      " 51  goldredADC        7620 non-null   object\n",
      " 52  redSupport        7583 non-null   object\n",
      " 53  redSupportChamp   7620 non-null   object\n",
      " 54  goldredSupport    7620 non-null   object\n",
      " 55  redBans           7620 non-null   object\n",
      " 56  Address           7620 non-null   object\n",
      "dtypes: int64(4), object(53)\n",
      "memory usage: 3.3+ MB\n"
     ]
    }
   ],
   "source": [
    "import pandas as pd\n",
    "import seaborn as sns\n",
    "import requests\n",
    "from bs4 import BeautifulSoup\n",
    "df=pd.read_csv('LeagueofLegends.csv')\n",
    "df.info()"
   ]
  },
  {
   "cell_type": "code",
   "execution_count": 2,
   "id": "5985d2a6",
   "metadata": {},
   "outputs": [
    {
     "data": {
      "text/plain": [
       "<bound method NDFrame.describe of      League  Year  Season    Type blueTeamTag  bResult  rResult redTeamTag  \\\n",
       "0     NALCS  2015  Spring  Season         TSM        1        0         C9   \n",
       "1     NALCS  2015  Spring  Season         CST        0        1        DIG   \n",
       "2     NALCS  2015  Spring  Season         WFX        1        0         GV   \n",
       "3     NALCS  2015  Spring  Season         TIP        0        1         TL   \n",
       "4     NALCS  2015  Spring  Season         CLG        1        0         T8   \n",
       "...     ...   ...     ...     ...         ...      ...      ...        ...   \n",
       "7615    TCL  2018  Spring  Season          YC        0        1        SUP   \n",
       "7616    TCL  2018  Spring  Season         GAL        0        1         DP   \n",
       "7617    OPL  2018  Spring  Season         SIN        0        1         DW   \n",
       "7618    OPL  2018  Spring  Season         LGC        1        0        TTC   \n",
       "7619    OPL  2018  Spring  Season         TTC        0        1        LGC   \n",
       "\n",
       "      gamelength                                           golddiff  ...  \\\n",
       "0             40  [0, 0, -14, -65, -268, -431, -488, -789, -494,...  ...   \n",
       "1             38  [0, 0, -26, -18, 147, 237, -152, 18, 88, -242,...  ...   \n",
       "2             40  [0, 0, 10, -60, 34, 37, 589, 1064, 1258, 913, ...  ...   \n",
       "3             41  [0, 0, -15, 25, 228, -6, -243, 175, -346, 16, ...  ...   \n",
       "4             35  [40, 40, 44, -36, 113, 158, -121, -191, 23, 20...  ...   \n",
       "...          ...                                                ...  ...   \n",
       "7615          34  [0, 0, -18, -95, 45, -87, -117, 199, 126, 92, ...  ...   \n",
       "7616          39  [0, 0, -86, -39, -207, -349, -60, -140, 187, -...  ...   \n",
       "7617          24  [0, -8, -6, 116, 103, -92, -470, -958, -1998, ...  ...   \n",
       "7618          35  [0, 0, -97, 33, 351, 284, 299, 263, 403, 623, ...  ...   \n",
       "7619          42  [0, 0, -8, -225, -36, 73, 464, 184, 1171, 1409...  ...   \n",
       "\n",
       "     redMiddleChamp                                      goldredMiddle  \\\n",
       "0              Fizz  [475, 475, 552, 842, 1178, 1378, 1635, 1949, 2...   \n",
       "1              Azir  [475, 475, 552, 786, 1097, 1389, 1660, 1955, 2...   \n",
       "2              Azir  [475, 475, 533, 801, 1006, 1233, 1385, 1720, 1...   \n",
       "3              Lulu  [475, 475, 532, 771, 1046, 1288, 1534, 1776, 2...   \n",
       "4              Lulu  [475, 475, 532, 807, 1042, 1338, 1646, 1951, 2...   \n",
       "...             ...                                                ...   \n",
       "7615         Veigar  [500, 500, 632, 982, 1258, 1667, 2060, 2390, 2...   \n",
       "7616           Ryze  [500, 500, 612, 1000, 1193, 1626, 1979, 2318, ...   \n",
       "7617       Malzahar  [500, 500, 615, 903, 1225, 1617, 1976, 2304, 2...   \n",
       "7618         Veigar  [500, 500, 561, 931, 1223, 1631, 1987, 2315, 2...   \n",
       "7619       Malzahar  [500, 500, 598, 968, 1165, 1477, 1801, 2016, 2...   \n",
       "\n",
       "            redADC redADCChamp  \\\n",
       "0           Sneaky       Sivir   \n",
       "1           CoreJJ       Corki   \n",
       "2              Cop       Corki   \n",
       "3            KEITH      KogMaw   \n",
       "4     Maplestreet8       Corki   \n",
       "...            ...         ...   \n",
       "7615       Zeitnot       Xayah   \n",
       "7616      Ruvelius     Caitlyn   \n",
       "7617          k1ng      Ezreal   \n",
       "7618           Low       Sivir   \n",
       "7619          Raid       Vayne   \n",
       "\n",
       "                                             goldredADC   redSupport  \\\n",
       "0     [475, 475, 532, 762, 1097, 1469, 1726, 2112, 2...  LemonNation   \n",
       "1     [475, 475, 532, 868, 1220, 1445, 1732, 1979, 2...      KiWiKiD   \n",
       "2     [475, 475, 533, 781, 1085, 1398, 1782, 1957, 2...   BunnyFuFuu   \n",
       "3     [475, 475, 532, 766, 1161, 1438, 1776, 1936, 2...      Xpecial   \n",
       "4     [475, 475, 532, 792, 1187, 1488, 1832, 2136, 2...        Dodo8   \n",
       "...                                                 ...          ...   \n",
       "7615  [500, 500, 564, 1027, 1320, 1727, 1963, 2276, ...   SnowFlower   \n",
       "7616  [500, 500, 621, 977, 1420, 1809, 2047, 2413, 2...       Japone   \n",
       "7617  [500, 508, 592, 986, 1400, 1753, 2196, 2538, 3...      Cupcake   \n",
       "7618  [500, 500, 634, 930, 1304, 1691, 2042, 2384, 2...      Tilting   \n",
       "7619  [500, 500, 587, 954, 1327, 1749, 2007, 2471, 2...        Decoy   \n",
       "\n",
       "     redSupportChamp                                     goldredSupport  \\\n",
       "0             Thresh  [515, 515, 577, 722, 911, 1042, 1194, 1370, 14...   \n",
       "1              Annie  [515, 515, 583, 752, 900, 1066, 1236, 1417, 15...   \n",
       "2              Janna  [515, 515, 584, 721, 858, 1002, 1168, 1303, 14...   \n",
       "3              Janna  [515, 515, 583, 721, 870, 1059, 1205, 1342, 15...   \n",
       "4              Annie  [475, 475, 538, 671, 817, 948, 1104, 1240, 136...   \n",
       "...              ...                                                ...   \n",
       "7615           Rakan  [500, 500, 566, 801, 1004, 1234, 1463, 1674, 1...   \n",
       "7616           Braum  [500, 500, 587, 790, 1107, 1335, 1472, 1616, 1...   \n",
       "7617           Taric  [500, 500, 585, 770, 976, 1222, 1446, 1627, 19...   \n",
       "7618           Janna  [500, 500, 592, 788, 1006, 1251, 1490, 1704, 1...   \n",
       "7619           Braum  [500, 500, 585, 793, 998, 1201, 1373, 1619, 18...   \n",
       "\n",
       "                                                redBans  \\\n",
       "0                    ['Tristana', 'Leblanc', 'Nidalee']   \n",
       "1                        ['RekSai', 'Janna', 'Leblanc']   \n",
       "2                          ['Leblanc', 'Zed', 'RekSai']   \n",
       "3                        ['RekSai', 'Rumble', 'LeeSin']   \n",
       "4                         ['Rumble', 'Sivir', 'Rengar']   \n",
       "...                                                 ...   \n",
       "7615     ['Ornn', 'Kalista', 'Ryze', 'Alistar', 'Shen']   \n",
       "7616    ['Zoe', 'KogMaw', 'JarvanIV', 'Ornn', 'Rengar']   \n",
       "7617  ['Azir', 'Kalista', 'Braum', 'Maokai', 'Alistar']   \n",
       "7618   ['Kalista', 'Galio', 'Gnar', 'Jayce', 'Sejuani']   \n",
       "7619   ['KogMaw', 'Illaoi', 'Azir', 'Karma', 'Sejuani']   \n",
       "\n",
       "                                                Address  \n",
       "0     http://matchhistory.na.leagueoflegends.com/en/...  \n",
       "1     http://matchhistory.na.leagueoflegends.com/en/...  \n",
       "2     http://matchhistory.na.leagueoflegends.com/en/...  \n",
       "3     http://matchhistory.na.leagueoflegends.com/en/...  \n",
       "4     http://matchhistory.na.leagueoflegends.com/en/...  \n",
       "...                                                 ...  \n",
       "7615  https://matchhistory.euw.leagueoflegends.com/e...  \n",
       "7616  https://matchhistory.euw.leagueoflegends.com/e...  \n",
       "7617  https://matchhistory.na.leagueoflegends.com/en...  \n",
       "7618  https://matchhistory.na.leagueoflegends.com/en...  \n",
       "7619  https://matchhistory.na.leagueoflegends.com/en...  \n",
       "\n",
       "[7620 rows x 57 columns]>"
      ]
     },
     "execution_count": 2,
     "metadata": {},
     "output_type": "execute_result"
    }
   ],
   "source": [
    "df.describe"
   ]
  },
  {
   "cell_type": "code",
   "execution_count": 38,
   "id": "79d5be0d",
   "metadata": {},
   "outputs": [
    {
     "data": {
      "text/plain": [
       "38.811764705882354"
      ]
     },
     "execution_count": 38,
     "metadata": {},
     "output_type": "execute_result"
    }
   ],
   "source": [
    "Korea=df.loc[df['League'] == 'LCK']\n",
    "Korea['gamelength'].mean()"
   ]
  },
  {
   "cell_type": "code",
   "execution_count": 39,
   "id": "a0d52224",
   "metadata": {},
   "outputs": [
    {
     "data": {
      "text/plain": [
       "36.956761006289305"
      ]
     },
     "execution_count": 39,
     "metadata": {},
     "output_type": "execute_result"
    }
   ],
   "source": [
    "NA=df.loc[df['League'] == 'NALCS']\n",
    "NA['gamelength'].mean()"
   ]
  },
  {
   "cell_type": "markdown",
   "id": "9a2cf319",
   "metadata": {},
   "source": [
    "# Korea has on average longer games than North America"
   ]
  },
  {
   "cell_type": "code",
   "execution_count": 29,
   "id": "4923d978",
   "metadata": {},
   "outputs": [
    {
     "data": {
      "text/plain": [
       "0.07828043049054842"
      ]
     },
     "execution_count": 29,
     "metadata": {},
     "output_type": "execute_result"
    }
   ],
   "source": [
    "Korea['gamelength'].corr(Korea['rResult'])"
   ]
  },
  {
   "cell_type": "markdown",
   "id": "b5a374a3",
   "metadata": {},
   "source": [
    "# My Answer"
   ]
  },
  {
   "cell_type": "code",
   "execution_count": 30,
   "id": "bded407e",
   "metadata": {},
   "outputs": [
    {
     "data": {
      "text/plain": [
       "0.03446126015075999"
      ]
     },
     "execution_count": 30,
     "metadata": {},
     "output_type": "execute_result"
    }
   ],
   "source": [
    "NA['gamelength'].corr(NA['rResult'])"
   ]
  },
  {
   "cell_type": "markdown",
   "id": "ff559cf1",
   "metadata": {},
   "source": [
    "# Game length has little to no impact on the result of a game for both North America and Korea"
   ]
  },
  {
   "cell_type": "code",
   "execution_count": 90,
   "id": "2082f26b",
   "metadata": {},
   "outputs": [],
   "source": [
    "inter=df.loc[df['Type'] == 'International']\n",
    "SKTBLUE=inter.loc[inter['blueTeamTag']=='SKT']\n",
    "TSMBLUE=inter.loc[inter['blueTeamTag']=='TSM']\n",
    "SKTRED=inter.loc[inter['redTeamTag']=='SKT']\n",
    "TSMRED=inter.loc[inter['redTeamTag']=='TSM']"
   ]
  },
  {
   "cell_type": "code",
   "execution_count": 96,
   "id": "0bfb45ad",
   "metadata": {},
   "outputs": [],
   "source": [
    "TSMREDRESULT=TSMRED.loc[TSMRED['rResult'] == 1]\n",
    "tsmred=TSMREDRESULT['rResult'].value_counts()\n",
    "TSMBLUERESULT=TSMRED.loc[TSMRED['bResult'] == 1]\n",
    "tsmblue=TSMBLUERESULT['bResult'].value_counts()"
   ]
  },
  {
   "cell_type": "code",
   "execution_count": 99,
   "id": "179502fb",
   "metadata": {},
   "outputs": [
    {
     "data": {
      "text/html": [
       "<div>\n",
       "<style scoped>\n",
       "    .dataframe tbody tr th:only-of-type {\n",
       "        vertical-align: middle;\n",
       "    }\n",
       "\n",
       "    .dataframe tbody tr th {\n",
       "        vertical-align: top;\n",
       "    }\n",
       "\n",
       "    .dataframe thead th {\n",
       "        text-align: right;\n",
       "    }\n",
       "</style>\n",
       "<table border=\"1\" class=\"dataframe\">\n",
       "  <thead>\n",
       "    <tr style=\"text-align: right;\">\n",
       "      <th></th>\n",
       "      <th>Blue Wins</th>\n",
       "      <th>Red Wins</th>\n",
       "    </tr>\n",
       "  </thead>\n",
       "  <tbody>\n",
       "    <tr>\n",
       "      <th>SKT</th>\n",
       "      <td>44</td>\n",
       "      <td>41</td>\n",
       "    </tr>\n",
       "    <tr>\n",
       "      <th>TSM</th>\n",
       "      <td>20</td>\n",
       "      <td>19</td>\n",
       "    </tr>\n",
       "  </tbody>\n",
       "</table>\n",
       "</div>"
      ],
      "text/plain": [
       "     Blue Wins  Red Wins\n",
       "SKT         44        41\n",
       "TSM         20        19"
      ]
     },
     "execution_count": 99,
     "metadata": {},
     "output_type": "execute_result"
    }
   ],
   "source": [
    "TSMREDRESULT = TSMRED.loc[TSMRED['rResult'] == 1]\n",
    "SKTREDRESULT = SKTRED.loc[SKTRED['rResult'] == 1]\n",
    "TSMBLUERESULT = TSMBLUE.loc[TSMBLUE['bResult'] == 1]\n",
    "SKTBLUERESULT = SKTBLUE.loc[SKTBLUE['bResult'] == 1]\n",
    "\n",
    "tsmred_wins = TSMREDRESULT['rResult'].count()\n",
    "sktred_wins = SKTREDRESULT['rResult'].count()\n",
    "tsmblue_wins = TSMBLUERESULT['bResult'].count()\n",
    "sktblue_wins = SKTBLUERESULT['bResult'].count()\n",
    "\n",
    "win_counts = pd.DataFrame({\n",
    "    'Blue Wins': [sktblue_wins, tsmblue_wins],\n",
    "    'Red Wins': [sktred_wins, tsmred_wins]\n",
    "}, index=['SKT', 'TSM'])\n",
    "\n",
    "win_counts"
   ]
  },
  {
   "cell_type": "markdown",
   "id": "d2dd5c9f",
   "metadata": {},
   "source": [
    "# SKT, which is Korea's best team, has significantly more wins internationally than TSM, which is North America's best team."
   ]
  },
  {
   "cell_type": "markdown",
   "id": "2cadbfec",
   "metadata": {},
   "source": [
    "### The data shows that, on average, game length for Korea is longer than game length for North America. This is indicative of the games being closer, as the closer a game is, the more likely it will be to extend for a longer duration. However, there is little correlation between game length and a specific side winning for both North America and Korea, the reasoning behind this is quite obvious, since the map for League of Legends is mirrored, the side a team plays on will actually have a quite small impact on the result of a game, which in turn, reduces the correlation that game length and which side wins. The biggest denominator for what the actual deciding factor for North America being worse than Korea is the international wins. Internationally, TSM, North America's best team, only holds 39 wins, while SKT, Korea's best team, holds 85 wins. This gap is extremely massive, and shows that Korea is significantly better than North America. Does this mean that North America sucks? Absolutely. North America pales in comparison to Korea, the difference between them is 45 international wins, which may not seem like a lot, but most teams only play 4-5 matches a tournament. This means that on average, SKT has won 7 more tournaments than TSM ever has. Although, this is simply through theoretical math, in actuality, TSM has won 0 international trophies, while SKT has won 5. North America does not just suck at League, they are garbage at League."
   ]
  },
  {
   "cell_type": "markdown",
   "id": "9ddd8ad1",
   "metadata": {},
   "source": []
  }
 ],
 "metadata": {
  "kernelspec": {
   "display_name": "Python 3 (ipykernel)",
   "language": "python",
   "name": "python3"
  },
  "language_info": {
   "codemirror_mode": {
    "name": "ipython",
    "version": 3
   },
   "file_extension": ".py",
   "mimetype": "text/x-python",
   "name": "python",
   "nbconvert_exporter": "python",
   "pygments_lexer": "ipython3",
   "version": "3.9.13"
  }
 },
 "nbformat": 4,
 "nbformat_minor": 5
}
